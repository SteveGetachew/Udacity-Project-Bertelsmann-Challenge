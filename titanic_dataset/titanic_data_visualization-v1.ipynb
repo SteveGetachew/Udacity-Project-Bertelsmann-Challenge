{
 "cells": [
  {
   "cell_type": "markdown",
   "metadata": {},
   "source": [
    "We will be using titanic dataset from Kaggle (https://www.kaggle.com/c/titanic/data). This dataset is locally stored, so we will import it from our system.\n",
    "\n",
    "### Some tips:\n",
    "You can use shift+enter to run each cell, or the run icon on the toolbar.\n"
   ]
  },
  {
   "cell_type": "code",
   "execution_count": null,
   "metadata": {},
   "outputs": [],
   "source": [
    "# Let us first import the necessary modules.\n",
    "import pandas as pd\n",
    "dataset_path = \"train.csv\"\n",
    "data = pd.read_csv(dataset_path)\n",
    "\n",
    "import matplotlib.pyplot as plt\n",
    "import seaborn as sns"
   ]
  },
  {
   "cell_type": "code",
   "execution_count": null,
   "metadata": {
    "scrolled": true
   },
   "outputs": [],
   "source": [
    "# Let's now see how our data looks like. To see first 5 rows of data you can use .head command\n",
    "\n",
    "data.head()\n",
    "# Now you will see different columns:\n"
   ]
  },
  {
   "cell_type": "markdown",
   "metadata": {},
   "source": [
    "#### Data Dictionary \n",
    "#### Variable\t:Definition\t    Key ####   \n",
    "survival\t:Survival\t    0 = No, 1 = Yes    \n",
    "pclass\t    :Ticket class\t1 = 1st, 2 = 2nd, 3 = 3rd          \n",
    "sex\t        :Sex\t          \n",
    "Age\t        :Age in years\t              \n",
    "sibsp\t    :# of siblings / spouses aboard the Titanic           \t\n",
    "parch\t    :# of parents / children aboard the Titanic\t            \n",
    "ticket\t    :Ticket number\t                \n",
    "fare    \t:Passenger fare\t                \n",
    "cabin   \t:Cabin number\t                  \n",
    "embarked\t:Port of Embarkation\tC = Cherbourg, Q = Queenstown, S = Southampton\n"
   ]
  },
  {
   "cell_type": "code",
   "execution_count": null,
   "metadata": {},
   "outputs": [],
   "source": [
    "#.describe() summarizes the columns/features of the DataFrame, including the count of observations, mean, max and so on.\n",
    "data.describe()"
   ]
  },
  {
   "cell_type": "code",
   "execution_count": null,
   "metadata": {},
   "outputs": [],
   "source": [
    "#.shape will help you look at the dimensions of the dataframe\n",
    "data.shape"
   ]
  },
  {
   "cell_type": "code",
   "execution_count": null,
   "metadata": {},
   "outputs": [],
   "source": [
    "plt.figure()\n",
    "sns.countplot(x='Survived', hue='Sex', data=data, palette='RdBu')\n",
    "plt.xticks([0,1], ['No', 'Yes'])\n",
    "plt.show()\n"
   ]
  },
  {
   "cell_type": "markdown",
   "metadata": {},
   "source": [
    "Calculate and print the survival rates in absolute numbers using values_counts() method.\n"
   ]
  },
  {
   "cell_type": "code",
   "execution_count": null,
   "metadata": {},
   "outputs": [],
   "source": [
    "\n",
    "# Passengers that survived vs passengers that passed away\n",
    "print(data[\"Survived\"].value_counts())\n",
    "\n"
   ]
  },
  {
   "cell_type": "code",
   "execution_count": null,
   "metadata": {},
   "outputs": [],
   "source": [
    "# As proportions (pass normalize = True in value_counts())\n",
    "print(data[\"Survived\"].value_counts(normalize=True))\n",
    "\n"
   ]
  },
  {
   "cell_type": "code",
   "execution_count": null,
   "metadata": {},
   "outputs": [],
   "source": [
    "# Males that survived vs males that passed away\n",
    "print(data[\"Survived\"][data[\"Sex\"] == 'male'].value_counts())\n",
    "\n"
   ]
  },
  {
   "cell_type": "code",
   "execution_count": null,
   "metadata": {},
   "outputs": [],
   "source": [
    "# Females that survived vs Females that passed away\n",
    "print(data[\"Survived\"][data[\"Sex\"] == 'female'].value_counts())\n",
    "\n"
   ]
  },
  {
   "cell_type": "code",
   "execution_count": null,
   "metadata": {},
   "outputs": [],
   "source": [
    "# Normalized male survival\n",
    "print(data[\"Survived\"][data[\"Sex\"] == 'male'].value_counts(normalize=True))\n",
    "\n"
   ]
  },
  {
   "cell_type": "code",
   "execution_count": null,
   "metadata": {},
   "outputs": [],
   "source": [
    "\n",
    "# Normalized female survival\n",
    "print(data[\"Survived\"][data[\"Sex\"] == 'female'].value_counts(normalize=True))"
   ]
  }
 ],
 "metadata": {
  "kernelspec": {
   "display_name": "Python 3",
   "language": "python",
   "name": "python3"
  },
  "language_info": {
   "codemirror_mode": {
    "name": "ipython",
    "version": 3
   },
   "file_extension": ".py",
   "mimetype": "text/x-python",
   "name": "python",
   "nbconvert_exporter": "python",
   "pygments_lexer": "ipython3",
   "version": "3.6.5"
  }
 },
 "nbformat": 4,
 "nbformat_minor": 2
}
